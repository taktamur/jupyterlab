{
 "cells": [
  {
   "cell_type": "code",
   "execution_count": 22,
   "id": "cd572f41-24e2-4408-8177-d2734ad15901",
   "metadata": {
    "tags": []
   },
   "outputs": [
    {
     "name": "stdout",
     "output_type": "stream",
     "text": [
      "Accuracy : 0.99\n",
      "Precision: 0.33\n",
      "Recall   : 1.00\n",
      "F1-score : 0.50\n"
     ]
    }
   ],
   "source": [
    "# 混同行列の値\n",
    "matrix = [[5, 0],\n",
    "          [10, 1000]]\n",
    "TP = matrix[0][0]\n",
    "FN = matrix[0][1]\n",
    "FP = matrix[1][0]\n",
    "TN = matrix[1][1]\n",
    "\n",
    "# 正解率 (Accuracy)\n",
    "accuracy = (TP + TN) / (TP + TN + FP + FN)\n",
    "\n",
    "# 適合率 (Precision)\n",
    "precision = TP / (TP + FP)\n",
    "\n",
    "# 再現率 (Recall)\n",
    "recall = TP / (TP + FN)\n",
    "\n",
    "# F値 (F1-score)\n",
    "f1_score = 2 * (precision * recall) / (precision + recall)\n",
    "\n",
    "# 結果を表示\n",
    "print(\"Accuracy : {:.2f}\".format(accuracy))\n",
    "print(\"Precision: {:.2f}\".format(precision))\n",
    "print(\"Recall   : {:.2f}\".format(recall))\n",
    "print(\"F1-score : {:.2f}\".format(f1_score))\n"
   ]
  },
  {
   "cell_type": "code",
   "execution_count": null,
   "id": "0977a15e-e0c9-4298-ae3b-5ac1862ff797",
   "metadata": {},
   "outputs": [],
   "source": []
  }
 ],
 "metadata": {
  "kernelspec": {
   "display_name": "Python 3 (ipykernel)",
   "language": "python",
   "name": "python3"
  },
  "language_info": {
   "codemirror_mode": {
    "name": "ipython",
    "version": 3
   },
   "file_extension": ".py",
   "mimetype": "text/x-python",
   "name": "python",
   "nbconvert_exporter": "python",
   "pygments_lexer": "ipython3",
   "version": "3.11.2"
  }
 },
 "nbformat": 4,
 "nbformat_minor": 5
}
